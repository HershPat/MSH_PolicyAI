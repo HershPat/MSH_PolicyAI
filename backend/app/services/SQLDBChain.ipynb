{
 "cells": [
  {
   "cell_type": "code",
   "execution_count": null,
   "id": "fe94983c",
   "metadata": {},
   "outputs": [],
   "source": [
    "\n",
    "from langchain.sql_database import SQLDatabase\n",
    "import os\n",
    "from dotenv import find_dotenv, load_dotenv\n",
    "# Load .env\n",
    "load_dotenv(find_dotenv())"
   ]
  },
  {
   "cell_type": "code",
   "execution_count": null,
   "id": "04de86fb",
   "metadata": {},
   "outputs": [],
   "source": [
    "DB_URL = os.getenv(\"DB_URL\")\n",
    "GOOGLE_API_KEY = os.getenv(\"GOOGLE_API_KEY\")\n",
    "db = SQLDatabase.from_uri(DB_URL)\n"
   ]
  },
  {
   "cell_type": "code",
   "execution_count": null,
   "id": "b291de41",
   "metadata": {},
   "outputs": [],
   "source": [
    "from langchain_google_genai import ChatGoogleGenerativeAI\n",
    "from langchain_community.agent_toolkits import SQLDatabaseToolkit\n",
    "from langchain.agents.agent_toolkits import create_sql_agent\n",
    "\n",
    "# Set your Google API Key\n",
    "os.environ[\"GOOGLE_API_KEY\"] = GOOGLE_API_KEY\n",
    "\n",
    "# Initialize Gemini\n",
    "\n",
    "llm = ChatGoogleGenerativeAI(\n",
    "    model=\"gemini-2.5-flash\",\n",
    "    temperature=0.2\n",
    ")\n",
    "\n",
    "# Set up SQL database (assuming `db` is already created with SQLDatabase)\n",
    "toolkit = SQLDatabaseToolkit(db=db, llm=llm)\n",
    "\n",
    "# Create agent\n",
    "agent_executor = create_sql_agent(\n",
    "    llm=llm,\n",
    "    toolkit=toolkit,\n",
    "    verbose=True\n",
    ")\n"
   ]
  },
  {
   "cell_type": "code",
   "execution_count": null,
   "id": "f0d8d9d0",
   "metadata": {},
   "outputs": [],
   "source": [
    "agent_executor.invoke(\"Give me the names of all the customers\")"
   ]
  }
 ],
 "metadata": {
  "kernelspec": {
   "display_name": "policypal",
   "language": "python",
   "name": "python3"
  },
  "language_info": {
   "codemirror_mode": {
    "name": "ipython",
    "version": 3
   },
   "file_extension": ".py",
   "mimetype": "text/x-python",
   "name": "python",
   "nbconvert_exporter": "python",
   "pygments_lexer": "ipython3",
   "version": "3.13.5"
  }
 },
 "nbformat": 4,
 "nbformat_minor": 5
}
